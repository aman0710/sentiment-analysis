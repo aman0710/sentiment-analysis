{
 "cells": [
  {
   "cell_type": "code",
   "execution_count": 2,
   "id": "5287eb9b",
   "metadata": {},
   "outputs": [],
   "source": [
    "import random\n",
    "\n",
    "class Sentiment:\n",
    "    POSITIVE = 'POSITIVE'\n",
    "    NEGATIVE = 'NEGATIVE'\n",
    "\n",
    "class Review:\n",
    "    def __init__(self, text, score):\n",
    "        self.text = text\n",
    "        self.score = score\n",
    "        self.sentiment = self.get_sentiment()\n",
    "    \n",
    "    def get_sentiment(self):\n",
    "        if self.score <= 2:\n",
    "            return Sentiment.NEGATIVE\n",
    "        else:\n",
    "            return Sentiment.POSITIVE\n",
    "\n",
    "class ReviewContainer:\n",
    "    def __init__(self, reviews):\n",
    "        self.reviews = reviews\n",
    "        \n",
    "    def get_text(self):\n",
    "        return [x.text for x in self.reviews]\n",
    "    \n",
    "    def get_sentiment(self):\n",
    "        return [x.sentiment for x in self.reviews]\n",
    "    \n",
    "    def evenly_distribute(self):\n",
    "        negative = list(filter(lambda x: x.sentiment == Sentiment.NEGATIVE, self.reviews))\n",
    "        positive = list(filter(lambda x: x.sentiment == Sentiment.POSITIVE, self.reviews))\n",
    "        positive_shrunk = positive[: len(negative)]\n",
    "        self.reviews = positive_shrunk + negative\n",
    "        random.shuffle(self.reviews)"
   ]
  },
  {
   "cell_type": "code",
   "execution_count": 3,
   "id": "fb40155f",
   "metadata": {
    "scrolled": true
   },
   "outputs": [
    {
     "data": {
      "text/plain": [
       "'I hoped for Mia to have some peace in this book, but her story is so real and raw.  Broken World was so touching and emotional because you go from Mia\\'s trauma to her trying to cope.  I love the way the story displays how there is no \"just bouncing back\" from being sexually assaulted.  Mia showed us how those demons come for you every day and how sometimes they best you. I was so in the moment with Broken World and hurt with Mia because she was surrounded by people but so alone and I understood her feelings.  I found myself wishing I could give her some of my courage and strength or even just to be there for her.  Thank you Lizzy for putting a great character\\'s voice on a strong subject and making it so that other peoples story may be heard through Mia\\'s.'"
      ]
     },
     "execution_count": 3,
     "metadata": {},
     "output_type": "execute_result"
    }
   ],
   "source": [
    "import json\n",
    "\n",
    "file_name = 'books_small_10000.json'\n",
    "reviews = []\n",
    "\n",
    "with open(file_name) as f:\n",
    "    for line in f:\n",
    "        review = json.loads(line)\n",
    "        reviews.append(Review(review['reviewText'], review['overall']))\n",
    "\n",
    "        \n",
    "reviews[5].text"
   ]
  },
  {
   "cell_type": "code",
   "execution_count": 4,
   "id": "d2bff24e",
   "metadata": {},
   "outputs": [
    {
     "data": {
      "text/plain": [
       "10000"
      ]
     },
     "execution_count": 4,
     "metadata": {},
     "output_type": "execute_result"
    }
   ],
   "source": [
    "len(reviews)"
   ]
  },
  {
   "cell_type": "code",
   "execution_count": 5,
   "id": "82676b94",
   "metadata": {
    "scrolled": false
   },
   "outputs": [],
   "source": [
    "from sklearn.model_selection import train_test_split\n",
    "\n",
    "training, test = train_test_split(reviews, test_size=0.33, random_state=42)\n",
    "\n",
    "train_container = ReviewContainer(training)\n",
    "test_container = ReviewContainer(test)\n",
    "\n",
    "train_container.evenly_distribute()\n",
    "test_container.evenly_distribute()"
   ]
  },
  {
   "cell_type": "code",
   "execution_count": 6,
   "id": "60e3ce28",
   "metadata": {},
   "outputs": [
    {
     "data": {
      "text/plain": [
       "6700"
      ]
     },
     "execution_count": 6,
     "metadata": {},
     "output_type": "execute_result"
    }
   ],
   "source": [
    "len(training)"
   ]
  },
  {
   "cell_type": "code",
   "execution_count": 7,
   "id": "7f98b646",
   "metadata": {
    "scrolled": true
   },
   "outputs": [
    {
     "name": "stdout",
     "output_type": "stream",
     "text": [
      "POSITIVE\n"
     ]
    }
   ],
   "source": [
    "print(training[0].sentiment)"
   ]
  },
  {
   "cell_type": "code",
   "execution_count": 8,
   "id": "1f9f881a",
   "metadata": {},
   "outputs": [],
   "source": [
    "train_x = train_container.get_text()\n",
    "train_y = train_container.get_sentiment()"
   ]
  },
  {
   "cell_type": "code",
   "execution_count": 9,
   "id": "0eca6536",
   "metadata": {},
   "outputs": [
    {
     "data": {
      "text/plain": [
       "'I read it through to the end, thinking that it would get better, I was mistaken, it did not at all'"
      ]
     },
     "execution_count": 9,
     "metadata": {},
     "output_type": "execute_result"
    }
   ],
   "source": [
    "train_x[1]"
   ]
  },
  {
   "cell_type": "code",
   "execution_count": 10,
   "id": "79dfbc4c",
   "metadata": {},
   "outputs": [
    {
     "data": {
      "text/plain": [
       "'NEGATIVE'"
      ]
     },
     "execution_count": 10,
     "metadata": {},
     "output_type": "execute_result"
    }
   ],
   "source": [
    "train_y[1]"
   ]
  },
  {
   "cell_type": "code",
   "execution_count": 11,
   "id": "8ff1ed77",
   "metadata": {},
   "outputs": [],
   "source": [
    "test_x = test_container.get_text()\n",
    "test_y = test_container.get_sentiment()"
   ]
  },
  {
   "cell_type": "code",
   "execution_count": 12,
   "id": "cdf45094",
   "metadata": {},
   "outputs": [
    {
     "data": {
      "text/plain": [
       "\"If this novel is to represent contemporary times, our modern generation, then I am quite depressed.The author appears to understand much about the drug culture and finishing antique furniture, but the supposed 'who done it' looses steam.The book launches from an interesting plot idea in the first quarter of the book, but then drowns the reader with a deluge of useless detail that fails to evolve the plot, develop the characters, or entertain. I slogged through it waiting for a curious twist and turn, given the book's hype.... and found myself bored through large sections of the storyline.\""
      ]
     },
     "execution_count": 12,
     "metadata": {},
     "output_type": "execute_result"
    }
   ],
   "source": [
    "test_x[0]"
   ]
  },
  {
   "cell_type": "code",
   "execution_count": 13,
   "id": "cac0ddd6",
   "metadata": {},
   "outputs": [
    {
     "data": {
      "text/plain": [
       "'NEGATIVE'"
      ]
     },
     "execution_count": 13,
     "metadata": {},
     "output_type": "execute_result"
    }
   ],
   "source": [
    "test_y[0]"
   ]
  },
  {
   "cell_type": "code",
   "execution_count": 14,
   "id": "e57b2c41",
   "metadata": {},
   "outputs": [
    {
     "name": "stdout",
     "output_type": "stream",
     "text": [
      "[[0. 0. 0. ... 0. 0. 0.]]\n"
     ]
    }
   ],
   "source": [
    "from sklearn.feature_extraction.text import CountVectorizer, TfidfVectorizer\n",
    "\n",
    "vectorizer = TfidfVectorizer()\n",
    "train_x_vectors = vectorizer.fit_transform(train_x)\n",
    "\n",
    "test_x_vectors = vectorizer.transform(test_x)\n",
    "\n",
    "print(train_x_vectors[0].toarray())"
   ]
  },
  {
   "cell_type": "code",
   "execution_count": 15,
   "id": "a8b57492",
   "metadata": {},
   "outputs": [
    {
     "data": {
      "text/plain": [
       "<872x8900 sparse matrix of type '<class 'numpy.float64'>'\n",
       "\twith 53552 stored elements in Compressed Sparse Row format>"
      ]
     },
     "execution_count": 15,
     "metadata": {},
     "output_type": "execute_result"
    }
   ],
   "source": [
    "train_x_vectors"
   ]
  },
  {
   "cell_type": "code",
   "execution_count": 16,
   "id": "c9823958",
   "metadata": {},
   "outputs": [
    {
     "data": {
      "text/plain": [
       "<416x8900 sparse matrix of type '<class 'numpy.float64'>'\n",
       "\twith 24256 stored elements in Compressed Sparse Row format>"
      ]
     },
     "execution_count": 16,
     "metadata": {},
     "output_type": "execute_result"
    }
   ],
   "source": [
    "test_x_vectors"
   ]
  },
  {
   "cell_type": "code",
   "execution_count": 17,
   "id": "e01229fc",
   "metadata": {},
   "outputs": [
    {
     "data": {
      "text/plain": [
       "<416x8900 sparse matrix of type '<class 'numpy.float64'>'\n",
       "\twith 24256 stored elements in Compressed Sparse Row format>"
      ]
     },
     "execution_count": 17,
     "metadata": {},
     "output_type": "execute_result"
    }
   ],
   "source": [
    "test_x_vectors"
   ]
  },
  {
   "cell_type": "code",
   "execution_count": 18,
   "id": "ff3294d5",
   "metadata": {},
   "outputs": [
    {
     "data": {
      "text/plain": [
       "<1x8900 sparse matrix of type '<class 'numpy.float64'>'\n",
       "\twith 68 stored elements in Compressed Sparse Row format>"
      ]
     },
     "execution_count": 18,
     "metadata": {},
     "output_type": "execute_result"
    }
   ],
   "source": [
    "test_x_vectors[0]"
   ]
  },
  {
   "cell_type": "code",
   "execution_count": 19,
   "id": "340fa11c",
   "metadata": {},
   "outputs": [],
   "source": [
    "from sklearn import svm"
   ]
  },
  {
   "cell_type": "code",
   "execution_count": 20,
   "id": "b5014d4d",
   "metadata": {},
   "outputs": [
    {
     "data": {
      "text/plain": [
       "SVC(kernel='linear')"
      ]
     },
     "execution_count": 20,
     "metadata": {},
     "output_type": "execute_result"
    }
   ],
   "source": [
    "clf_svm = svm.SVC(kernel='linear')\n",
    "clf_svm.fit(train_x_vectors, train_y)"
   ]
  },
  {
   "cell_type": "code",
   "execution_count": 21,
   "id": "5746567e",
   "metadata": {},
   "outputs": [
    {
     "data": {
      "text/plain": [
       "\"If this novel is to represent contemporary times, our modern generation, then I am quite depressed.The author appears to understand much about the drug culture and finishing antique furniture, but the supposed 'who done it' looses steam.The book launches from an interesting plot idea in the first quarter of the book, but then drowns the reader with a deluge of useless detail that fails to evolve the plot, develop the characters, or entertain. I slogged through it waiting for a curious twist and turn, given the book's hype.... and found myself bored through large sections of the storyline.\""
      ]
     },
     "execution_count": 21,
     "metadata": {},
     "output_type": "execute_result"
    }
   ],
   "source": [
    "test_x[0]"
   ]
  },
  {
   "cell_type": "code",
   "execution_count": 22,
   "id": "ac8a13e8",
   "metadata": {},
   "outputs": [
    {
     "data": {
      "text/plain": [
       "'NEGATIVE'"
      ]
     },
     "execution_count": 22,
     "metadata": {},
     "output_type": "execute_result"
    }
   ],
   "source": [
    "test_y[0]"
   ]
  },
  {
   "cell_type": "code",
   "execution_count": 23,
   "id": "37f8e879",
   "metadata": {},
   "outputs": [
    {
     "name": "stdout",
     "output_type": "stream",
     "text": [
      "['NEGATIVE']\n"
     ]
    }
   ],
   "source": [
    "print(clf_svm.predict(test_x_vectors[0]))"
   ]
  },
  {
   "cell_type": "code",
   "execution_count": 24,
   "id": "cce06f69",
   "metadata": {},
   "outputs": [],
   "source": [
    "user_input = \"Overall an average book i would say. Did not enjoy much\""
   ]
  },
  {
   "cell_type": "code",
   "execution_count": 25,
   "id": "3631da40",
   "metadata": {},
   "outputs": [],
   "source": [
    "user_input_vector = vectorizer.transform([user_input])"
   ]
  },
  {
   "cell_type": "code",
   "execution_count": 26,
   "id": "4082a166",
   "metadata": {},
   "outputs": [
    {
     "name": "stdout",
     "output_type": "stream",
     "text": [
      "  (0, 8813)\t0.23722381445255136\n",
      "  (0, 6867)\t0.32723758779618994\n",
      "  (0, 5601)\t0.4448494139840391\n",
      "  (0, 5404)\t0.16369842091987755\n",
      "  (0, 5220)\t0.25248161051378204\n",
      "  (0, 2679)\t0.3333766774556179\n",
      "  (0, 2221)\t0.26934732589275684\n",
      "  (0, 982)\t0.13074200317914544\n",
      "  (0, 659)\t0.5483483256097684\n",
      "  (0, 406)\t0.21618958480328404\n"
     ]
    }
   ],
   "source": [
    "print(user_input_vector)"
   ]
  },
  {
   "cell_type": "code",
   "execution_count": 27,
   "id": "ac6fb0b0",
   "metadata": {},
   "outputs": [
    {
     "name": "stdout",
     "output_type": "stream",
     "text": [
      "['POSITIVE']\n"
     ]
    }
   ],
   "source": [
    "print(clf_svm.predict(user_input_vector))"
   ]
  },
  {
   "cell_type": "code",
   "execution_count": 28,
   "id": "51436ff4",
   "metadata": {
    "scrolled": true
   },
   "outputs": [
    {
     "name": "stdout",
     "output_type": "stream",
     "text": [
      "['NEGATIVE' 'POSITIVE' 'NEGATIVE' 'POSITIVE' 'POSITIVE' 'POSITIVE'\n",
      " 'NEGATIVE' 'NEGATIVE' 'NEGATIVE' 'NEGATIVE' 'NEGATIVE' 'POSITIVE'\n",
      " 'POSITIVE' 'POSITIVE' 'POSITIVE' 'POSITIVE' 'POSITIVE' 'NEGATIVE'\n",
      " 'NEGATIVE' 'POSITIVE' 'NEGATIVE' 'NEGATIVE' 'NEGATIVE' 'NEGATIVE'\n",
      " 'POSITIVE' 'POSITIVE' 'NEGATIVE' 'NEGATIVE' 'NEGATIVE' 'NEGATIVE'\n",
      " 'POSITIVE' 'NEGATIVE' 'NEGATIVE' 'POSITIVE' 'NEGATIVE' 'NEGATIVE'\n",
      " 'POSITIVE' 'POSITIVE' 'POSITIVE' 'NEGATIVE' 'POSITIVE' 'POSITIVE'\n",
      " 'NEGATIVE' 'NEGATIVE' 'POSITIVE' 'POSITIVE' 'POSITIVE' 'NEGATIVE'\n",
      " 'POSITIVE' 'POSITIVE' 'NEGATIVE' 'NEGATIVE' 'POSITIVE' 'NEGATIVE'\n",
      " 'POSITIVE' 'POSITIVE' 'NEGATIVE' 'NEGATIVE' 'POSITIVE' 'NEGATIVE'\n",
      " 'NEGATIVE' 'NEGATIVE' 'NEGATIVE' 'POSITIVE' 'NEGATIVE' 'NEGATIVE'\n",
      " 'POSITIVE' 'NEGATIVE' 'NEGATIVE' 'POSITIVE' 'POSITIVE' 'NEGATIVE'\n",
      " 'POSITIVE' 'NEGATIVE' 'NEGATIVE' 'NEGATIVE' 'POSITIVE' 'POSITIVE'\n",
      " 'NEGATIVE' 'NEGATIVE' 'NEGATIVE' 'POSITIVE' 'POSITIVE' 'POSITIVE'\n",
      " 'POSITIVE' 'NEGATIVE' 'POSITIVE' 'NEGATIVE' 'NEGATIVE' 'POSITIVE'\n",
      " 'POSITIVE' 'POSITIVE' 'POSITIVE' 'NEGATIVE' 'NEGATIVE' 'NEGATIVE'\n",
      " 'NEGATIVE' 'NEGATIVE' 'POSITIVE' 'POSITIVE' 'NEGATIVE' 'POSITIVE'\n",
      " 'NEGATIVE' 'NEGATIVE' 'NEGATIVE' 'POSITIVE' 'POSITIVE' 'POSITIVE'\n",
      " 'NEGATIVE' 'NEGATIVE' 'POSITIVE' 'POSITIVE' 'NEGATIVE' 'POSITIVE'\n",
      " 'POSITIVE' 'NEGATIVE' 'POSITIVE' 'POSITIVE' 'NEGATIVE' 'POSITIVE'\n",
      " 'POSITIVE' 'NEGATIVE' 'POSITIVE' 'POSITIVE' 'NEGATIVE' 'NEGATIVE'\n",
      " 'NEGATIVE' 'NEGATIVE' 'POSITIVE' 'NEGATIVE' 'POSITIVE' 'NEGATIVE'\n",
      " 'POSITIVE' 'POSITIVE' 'NEGATIVE' 'NEGATIVE' 'NEGATIVE' 'POSITIVE'\n",
      " 'NEGATIVE' 'NEGATIVE' 'POSITIVE' 'NEGATIVE' 'NEGATIVE' 'NEGATIVE'\n",
      " 'NEGATIVE' 'NEGATIVE' 'NEGATIVE' 'NEGATIVE' 'NEGATIVE' 'NEGATIVE'\n",
      " 'NEGATIVE' 'NEGATIVE' 'POSITIVE' 'NEGATIVE' 'POSITIVE' 'POSITIVE'\n",
      " 'POSITIVE' 'NEGATIVE' 'POSITIVE' 'POSITIVE' 'NEGATIVE' 'POSITIVE'\n",
      " 'POSITIVE' 'NEGATIVE' 'POSITIVE' 'POSITIVE' 'NEGATIVE' 'NEGATIVE'\n",
      " 'POSITIVE' 'POSITIVE' 'NEGATIVE' 'POSITIVE' 'NEGATIVE' 'NEGATIVE'\n",
      " 'POSITIVE' 'POSITIVE' 'POSITIVE' 'POSITIVE' 'NEGATIVE' 'POSITIVE'\n",
      " 'NEGATIVE' 'POSITIVE' 'NEGATIVE' 'POSITIVE' 'POSITIVE' 'NEGATIVE'\n",
      " 'NEGATIVE' 'POSITIVE' 'NEGATIVE' 'POSITIVE' 'NEGATIVE' 'NEGATIVE'\n",
      " 'POSITIVE' 'NEGATIVE' 'NEGATIVE' 'NEGATIVE' 'POSITIVE' 'NEGATIVE'\n",
      " 'NEGATIVE' 'POSITIVE' 'POSITIVE' 'NEGATIVE' 'NEGATIVE' 'POSITIVE'\n",
      " 'POSITIVE' 'POSITIVE' 'POSITIVE' 'POSITIVE' 'POSITIVE' 'NEGATIVE'\n",
      " 'NEGATIVE' 'NEGATIVE' 'POSITIVE' 'POSITIVE' 'POSITIVE' 'NEGATIVE'\n",
      " 'NEGATIVE' 'POSITIVE' 'NEGATIVE' 'POSITIVE' 'POSITIVE' 'NEGATIVE'\n",
      " 'POSITIVE' 'POSITIVE' 'POSITIVE' 'NEGATIVE' 'POSITIVE' 'NEGATIVE'\n",
      " 'NEGATIVE' 'NEGATIVE' 'NEGATIVE' 'NEGATIVE' 'POSITIVE' 'NEGATIVE'\n",
      " 'NEGATIVE' 'POSITIVE' 'POSITIVE' 'NEGATIVE' 'NEGATIVE' 'NEGATIVE'\n",
      " 'NEGATIVE' 'NEGATIVE' 'NEGATIVE' 'NEGATIVE' 'NEGATIVE' 'NEGATIVE'\n",
      " 'POSITIVE' 'NEGATIVE' 'NEGATIVE' 'POSITIVE' 'POSITIVE' 'POSITIVE'\n",
      " 'NEGATIVE' 'NEGATIVE' 'NEGATIVE' 'NEGATIVE' 'POSITIVE' 'NEGATIVE'\n",
      " 'NEGATIVE' 'POSITIVE' 'NEGATIVE' 'POSITIVE' 'NEGATIVE' 'NEGATIVE'\n",
      " 'NEGATIVE' 'NEGATIVE' 'POSITIVE' 'POSITIVE' 'NEGATIVE' 'POSITIVE'\n",
      " 'NEGATIVE' 'POSITIVE' 'POSITIVE' 'POSITIVE' 'NEGATIVE' 'NEGATIVE'\n",
      " 'POSITIVE' 'NEGATIVE' 'POSITIVE' 'POSITIVE' 'POSITIVE' 'POSITIVE'\n",
      " 'NEGATIVE' 'NEGATIVE' 'POSITIVE' 'NEGATIVE' 'POSITIVE' 'POSITIVE'\n",
      " 'NEGATIVE' 'POSITIVE' 'POSITIVE' 'NEGATIVE' 'NEGATIVE' 'POSITIVE'\n",
      " 'NEGATIVE' 'NEGATIVE' 'POSITIVE' 'POSITIVE' 'NEGATIVE' 'NEGATIVE'\n",
      " 'POSITIVE' 'NEGATIVE' 'NEGATIVE' 'POSITIVE' 'NEGATIVE' 'NEGATIVE'\n",
      " 'NEGATIVE' 'POSITIVE' 'POSITIVE' 'POSITIVE' 'NEGATIVE' 'NEGATIVE'\n",
      " 'POSITIVE' 'POSITIVE' 'NEGATIVE' 'NEGATIVE' 'NEGATIVE' 'POSITIVE'\n",
      " 'NEGATIVE' 'POSITIVE' 'POSITIVE' 'POSITIVE' 'NEGATIVE' 'POSITIVE'\n",
      " 'NEGATIVE' 'NEGATIVE' 'POSITIVE' 'POSITIVE' 'POSITIVE' 'NEGATIVE'\n",
      " 'POSITIVE' 'POSITIVE' 'NEGATIVE' 'NEGATIVE' 'NEGATIVE' 'POSITIVE'\n",
      " 'NEGATIVE' 'NEGATIVE' 'POSITIVE' 'NEGATIVE' 'NEGATIVE' 'NEGATIVE'\n",
      " 'POSITIVE' 'POSITIVE' 'POSITIVE' 'NEGATIVE' 'POSITIVE' 'POSITIVE'\n",
      " 'POSITIVE' 'NEGATIVE' 'POSITIVE' 'NEGATIVE' 'POSITIVE' 'POSITIVE'\n",
      " 'POSITIVE' 'POSITIVE' 'NEGATIVE' 'NEGATIVE' 'NEGATIVE' 'POSITIVE'\n",
      " 'NEGATIVE' 'NEGATIVE' 'POSITIVE' 'NEGATIVE' 'NEGATIVE' 'POSITIVE'\n",
      " 'NEGATIVE' 'POSITIVE' 'NEGATIVE' 'NEGATIVE' 'NEGATIVE' 'POSITIVE'\n",
      " 'POSITIVE' 'NEGATIVE' 'NEGATIVE' 'POSITIVE' 'NEGATIVE' 'POSITIVE'\n",
      " 'POSITIVE' 'NEGATIVE' 'POSITIVE' 'NEGATIVE' 'POSITIVE' 'POSITIVE'\n",
      " 'POSITIVE' 'POSITIVE' 'POSITIVE' 'NEGATIVE' 'POSITIVE' 'NEGATIVE'\n",
      " 'NEGATIVE' 'POSITIVE' 'NEGATIVE' 'POSITIVE' 'NEGATIVE' 'NEGATIVE'\n",
      " 'NEGATIVE' 'POSITIVE' 'POSITIVE' 'NEGATIVE' 'POSITIVE' 'NEGATIVE'\n",
      " 'POSITIVE' 'POSITIVE' 'POSITIVE' 'POSITIVE' 'POSITIVE' 'POSITIVE'\n",
      " 'NEGATIVE' 'POSITIVE' 'NEGATIVE' 'NEGATIVE' 'POSITIVE' 'NEGATIVE'\n",
      " 'NEGATIVE' 'POSITIVE']\n"
     ]
    }
   ],
   "source": [
    "print(clf_svm.predict(test_x_vectors))"
   ]
  },
  {
   "cell_type": "code",
   "execution_count": 29,
   "id": "b2323f23",
   "metadata": {},
   "outputs": [
    {
     "data": {
      "text/plain": [
       "DecisionTreeClassifier()"
      ]
     },
     "execution_count": 29,
     "metadata": {},
     "output_type": "execute_result"
    }
   ],
   "source": [
    "from sklearn.tree import DecisionTreeClassifier\n",
    "\n",
    "clf_dec = DecisionTreeClassifier()\n",
    "clf_dec.fit(train_x_vectors, train_y)"
   ]
  },
  {
   "cell_type": "code",
   "execution_count": 30,
   "id": "2a4d7cb6",
   "metadata": {},
   "outputs": [
    {
     "name": "stdout",
     "output_type": "stream",
     "text": [
      "['NEGATIVE']\n"
     ]
    }
   ],
   "source": [
    "print(clf_dec.predict(user_input_vector[0]))"
   ]
  },
  {
   "cell_type": "code",
   "execution_count": 31,
   "id": "21f78170",
   "metadata": {},
   "outputs": [
    {
     "data": {
      "text/plain": [
       "GaussianNB()"
      ]
     },
     "execution_count": 31,
     "metadata": {},
     "output_type": "execute_result"
    }
   ],
   "source": [
    "from sklearn.naive_bayes import GaussianNB\n",
    "\n",
    "clf_gnb = GaussianNB()\n",
    "clf_gnb.fit(train_x_vectors.todense(), train_y)"
   ]
  },
  {
   "cell_type": "code",
   "execution_count": 32,
   "id": "1c208205",
   "metadata": {},
   "outputs": [
    {
     "name": "stdout",
     "output_type": "stream",
     "text": [
      "['NEGATIVE']\n"
     ]
    }
   ],
   "source": [
    "print(clf_gnb.predict(user_input_vector.todense()))"
   ]
  },
  {
   "cell_type": "code",
   "execution_count": 33,
   "id": "ed838e2d",
   "metadata": {},
   "outputs": [
    {
     "data": {
      "text/plain": [
       "LogisticRegression()"
      ]
     },
     "execution_count": 33,
     "metadata": {},
     "output_type": "execute_result"
    }
   ],
   "source": [
    "from sklearn.linear_model import LogisticRegression\n",
    "\n",
    "clf_log = LogisticRegression()\n",
    "clf_log.fit(train_x_vectors, train_y)"
   ]
  },
  {
   "cell_type": "code",
   "execution_count": 34,
   "id": "0b98cd52",
   "metadata": {
    "scrolled": true
   },
   "outputs": [
    {
     "name": "stdout",
     "output_type": "stream",
     "text": [
      "['NEGATIVE']\n"
     ]
    }
   ],
   "source": [
    "print(clf_log.predict(test_x_vectors[2]))"
   ]
  },
  {
   "cell_type": "code",
   "execution_count": 35,
   "id": "5dac9d9a",
   "metadata": {},
   "outputs": [
    {
     "name": "stdout",
     "output_type": "stream",
     "text": [
      "0.7716346153846154\n",
      "0.6105769230769231\n",
      "0.6394230769230769\n",
      "0.7740384615384616\n"
     ]
    }
   ],
   "source": [
    "# Mean Accuracy\n",
    "\n",
    "\n",
    "print(clf_svm.score(test_x_vectors, test_y))\n",
    "print(clf_dec.score(test_x_vectors, test_y))\n",
    "print(clf_gnb.score(test_x_vectors.todense(), test_y))\n",
    "print(clf_log.score(test_x_vectors, test_y))"
   ]
  },
  {
   "cell_type": "code",
   "execution_count": 36,
   "id": "7a983f3f",
   "metadata": {},
   "outputs": [
    {
     "name": "stdout",
     "output_type": "stream",
     "text": [
      "[0.76658477 0.77647059]\n",
      "[0.61057692 0.61057692]\n",
      "[0.64454976 0.63414634]\n",
      "[0.77294686 0.77511962]\n"
     ]
    }
   ],
   "source": [
    "# F1 Scores\n",
    "\n",
    "from sklearn.metrics import f1_score\n",
    "\n",
    "print(f1_score(test_y, clf_svm.predict(test_x_vectors), average=None, labels=[Sentiment.POSITIVE, Sentiment.NEGATIVE]))\n",
    "print(f1_score(test_y, clf_dec.predict(test_x_vectors), average=None, labels=[Sentiment.POSITIVE, Sentiment.NEGATIVE]))\n",
    "print(f1_score(test_y, clf_gnb.predict(test_x_vectors.todense()), average=None, labels=[Sentiment.POSITIVE,Sentiment.NEGATIVE]))\n",
    "print(f1_score(test_y, clf_log.predict(test_x_vectors), average=None, labels=[Sentiment.POSITIVE, Sentiment.NEGATIVE]))"
   ]
  },
  {
   "cell_type": "code",
   "execution_count": 37,
   "id": "93f8dc55",
   "metadata": {},
   "outputs": [
    {
     "data": {
      "text/plain": [
       "208"
      ]
     },
     "execution_count": 37,
     "metadata": {},
     "output_type": "execute_result"
    }
   ],
   "source": [
    "test_y.count(Sentiment.POSITIVE)"
   ]
  },
  {
   "cell_type": "code",
   "execution_count": 38,
   "id": "8d87d2ed",
   "metadata": {},
   "outputs": [],
   "source": [
    "test_set = ['good read', 'bad book do not buy', 'horrible waste of time', 'Overall a mild book i would say. Did not enjoy much']\n",
    "new_test = vectorizer.transform(test_set)"
   ]
  },
  {
   "cell_type": "code",
   "execution_count": 39,
   "id": "29ea9739",
   "metadata": {},
   "outputs": [
    {
     "name": "stdout",
     "output_type": "stream",
     "text": [
      "['POSITIVE' 'NEGATIVE' 'NEGATIVE' 'NEGATIVE']\n"
     ]
    }
   ],
   "source": [
    "print(clf_log.predict(new_test))"
   ]
  },
  {
   "cell_type": "code",
   "execution_count": 40,
   "id": "7dd3f3e6",
   "metadata": {},
   "outputs": [
    {
     "data": {
      "text/plain": [
       "GridSearchCV(cv=5, estimator=LogisticRegression(),\n",
       "             param_grid={'C': (1, 2, 3, 4, 8),\n",
       "                         'max_iter': (400, 800, 1000, 1600),\n",
       "                         'solver': ('newton-cg', 'lbfgs', 'liblinear', 'sag',\n",
       "                                    'saga')})"
      ]
     },
     "execution_count": 40,
     "metadata": {},
     "output_type": "execute_result"
    }
   ],
   "source": [
    "from sklearn.model_selection import GridSearchCV\n",
    "\n",
    "parameters = {'solver': ('newton-cg', 'lbfgs','liblinear','sag','saga'), 'C': (1, 2, 3, 4, 8), 'max_iter': (400, 800,1000,1600)}\n",
    "log_reg = LogisticRegression()\n",
    "\n",
    "clf = GridSearchCV(log_reg, parameters, cv=5)\n",
    "\n",
    "clf.fit(train_x_vectors, train_y)"
   ]
  },
  {
   "cell_type": "code",
   "execution_count": 41,
   "id": "66fc95e2",
   "metadata": {},
   "outputs": [
    {
     "name": "stdout",
     "output_type": "stream",
     "text": [
      "0.7836538461538461\n"
     ]
    }
   ],
   "source": [
    "print(clf.score(test_x_vectors, test_y))"
   ]
  },
  {
   "cell_type": "code",
   "execution_count": 42,
   "id": "71100ac5",
   "metadata": {},
   "outputs": [
    {
     "name": "stdout",
     "output_type": "stream",
     "text": [
      "[0.784689  0.7826087]\n"
     ]
    }
   ],
   "source": [
    "print(f1_score(test_y, clf.predict(test_x_vectors), average=None, labels=[Sentiment.POSITIVE, Sentiment.NEGATIVE]))"
   ]
  },
  {
   "cell_type": "code",
   "execution_count": 43,
   "id": "0e77541c",
   "metadata": {},
   "outputs": [],
   "source": [
    "import pickle\n",
    "\n",
    "with open('sentiment_classifier.pkl', 'wb') as f:\n",
    "    pickle.dump(clf, f)"
   ]
  },
  {
   "cell_type": "code",
   "execution_count": 44,
   "id": "3e554bf3",
   "metadata": {},
   "outputs": [],
   "source": [
    "with open('sentiment_classifier.pkl', 'rb') as f:\n",
    "    loaded_clf = pickle.load(f)"
   ]
  },
  {
   "cell_type": "code",
   "execution_count": 45,
   "id": "e89cca89",
   "metadata": {
    "scrolled": true
   },
   "outputs": [
    {
     "name": "stdout",
     "output_type": "stream",
     "text": [
      "POSITIVE\n",
      "['POSITIVE']\n"
     ]
    }
   ],
   "source": [
    "print(test_y[3])\n",
    "\n",
    "print(loaded_clf.predict(test_x_vectors[3]))"
   ]
  }
 ],
 "metadata": {
  "kernelspec": {
   "display_name": "Python 3",
   "language": "python",
   "name": "python3"
  },
  "language_info": {
   "codemirror_mode": {
    "name": "ipython",
    "version": 3
   },
   "file_extension": ".py",
   "mimetype": "text/x-python",
   "name": "python",
   "nbconvert_exporter": "python",
   "pygments_lexer": "ipython3",
   "version": "3.7.6"
  }
 },
 "nbformat": 4,
 "nbformat_minor": 5
}
