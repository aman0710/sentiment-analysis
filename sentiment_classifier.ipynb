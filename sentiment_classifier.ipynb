{
 "cells": [
  {
   "cell_type": "code",
   "execution_count": 222,
   "id": "5287eb9b",
   "metadata": {},
   "outputs": [],
   "source": [
    "import random\n",
    "\n",
    "class Sentiment:\n",
    "    POSITIVE = 'POSITIVE'\n",
    "    NEGATIVE = 'NEGATIVE'\n",
    "\n",
    "class Review:\n",
    "    def __init__(self, text, score):\n",
    "        self.text = text\n",
    "        self.score = score\n",
    "        self.sentiment = self.get_sentiment()\n",
    "    \n",
    "    def get_sentiment(self):\n",
    "        if self.score <= 2:\n",
    "            return Sentiment.NEGATIVE\n",
    "        else:\n",
    "            return Sentiment.POSITIVE\n",
    "\n",
    "class ReviewContainer:\n",
    "    def __init__(self, reviews):\n",
    "        self.reviews = reviews\n",
    "        \n",
    "    def get_text(self):\n",
    "        return [x.text for x in self.reviews]\n",
    "    \n",
    "    def get_sentiment(self):\n",
    "        return [x.sentiment for x in self.reviews]\n",
    "    \n",
    "    def evenly_distribute(self):\n",
    "        negative = list(filter(lambda x: x.sentiment == Sentiment.NEGATIVE, self.reviews))\n",
    "        positive = list(filter(lambda x: x.sentiment == Sentiment.POSITIVE, self.reviews))\n",
    "        positive_shrunk = positive[: len(negative)]\n",
    "        self.reviews = positive_shrunk + negative\n",
    "        random.shuffle(self.reviews)"
   ]
  },
  {
   "cell_type": "code",
   "execution_count": 223,
   "id": "fb40155f",
   "metadata": {
    "scrolled": true
   },
   "outputs": [
    {
     "data": {
      "text/plain": [
       "'I hoped for Mia to have some peace in this book, but her story is so real and raw.  Broken World was so touching and emotional because you go from Mia\\'s trauma to her trying to cope.  I love the way the story displays how there is no \"just bouncing back\" from being sexually assaulted.  Mia showed us how those demons come for you every day and how sometimes they best you. I was so in the moment with Broken World and hurt with Mia because she was surrounded by people but so alone and I understood her feelings.  I found myself wishing I could give her some of my courage and strength or even just to be there for her.  Thank you Lizzy for putting a great character\\'s voice on a strong subject and making it so that other peoples story may be heard through Mia\\'s.'"
      ]
     },
     "execution_count": 223,
     "metadata": {},
     "output_type": "execute_result"
    }
   ],
   "source": [
    "import json\n",
    "\n",
    "file_name = 'books_small_10000.json'\n",
    "reviews = []\n",
    "\n",
    "with open(file_name) as f:\n",
    "    for line in f:\n",
    "        review = json.loads(line)\n",
    "        reviews.append(Review(review['reviewText'], review['overall']))\n",
    "\n",
    "        \n",
    "reviews[5].text"
   ]
  },
  {
   "cell_type": "code",
   "execution_count": 224,
   "id": "d2bff24e",
   "metadata": {},
   "outputs": [
    {
     "data": {
      "text/plain": [
       "10000"
      ]
     },
     "execution_count": 224,
     "metadata": {},
     "output_type": "execute_result"
    }
   ],
   "source": [
    "len(reviews)"
   ]
  },
  {
   "cell_type": "code",
   "execution_count": 225,
   "id": "82676b94",
   "metadata": {
    "scrolled": false
   },
   "outputs": [],
   "source": [
    "from sklearn.model_selection import train_test_split\n",
    "\n",
    "training, test = train_test_split(reviews, test_size=0.33, random_state=42)\n",
    "\n",
    "train_container = ReviewContainer(training)\n",
    "test_container = ReviewContainer(test)\n",
    "\n",
    "train_container.evenly_distribute()\n",
    "test_container.evenly_distribute()"
   ]
  },
  {
   "cell_type": "code",
   "execution_count": 226,
   "id": "60e3ce28",
   "metadata": {},
   "outputs": [
    {
     "data": {
      "text/plain": [
       "6700"
      ]
     },
     "execution_count": 226,
     "metadata": {},
     "output_type": "execute_result"
    }
   ],
   "source": [
    "len(training)"
   ]
  },
  {
   "cell_type": "code",
   "execution_count": 227,
   "id": "7f98b646",
   "metadata": {
    "scrolled": true
   },
   "outputs": [
    {
     "name": "stdout",
     "output_type": "stream",
     "text": [
      "POSITIVE\n"
     ]
    }
   ],
   "source": [
    "print(training[0].sentiment)"
   ]
  },
  {
   "cell_type": "code",
   "execution_count": 228,
   "id": "1f9f881a",
   "metadata": {},
   "outputs": [],
   "source": [
    "train_x = train_container.get_text()\n",
    "train_y = train_container.get_sentiment()"
   ]
  },
  {
   "cell_type": "code",
   "execution_count": 229,
   "id": "0eca6536",
   "metadata": {},
   "outputs": [
    {
     "data": {
      "text/plain": [
       "\"The first book I understood all the drama and everything that led up to the second book but she you get to the second I understand the hard feeling between the characters in the beginning but it just keeps going and it seems to be unnecessary it never calms down at any point I liked most of the book in a whole but I feel like the continued drama was crazy and the way it ended I hated it,it just doesn't seem to fit\""
      ]
     },
     "execution_count": 229,
     "metadata": {},
     "output_type": "execute_result"
    }
   ],
   "source": [
    "train_x[1]"
   ]
  },
  {
   "cell_type": "code",
   "execution_count": 230,
   "id": "79dfbc4c",
   "metadata": {},
   "outputs": [
    {
     "data": {
      "text/plain": [
       "'NEGATIVE'"
      ]
     },
     "execution_count": 230,
     "metadata": {},
     "output_type": "execute_result"
    }
   ],
   "source": [
    "train_y[1]"
   ]
  },
  {
   "cell_type": "code",
   "execution_count": 231,
   "id": "8ff1ed77",
   "metadata": {},
   "outputs": [],
   "source": [
    "test_x = test_container.get_text()\n",
    "test_y = test_container.get_sentiment()"
   ]
  },
  {
   "cell_type": "code",
   "execution_count": 232,
   "id": "cdf45094",
   "metadata": {},
   "outputs": [
    {
     "data": {
      "text/plain": [
       "\"I really hate writing bad reviews almost as much as I hate reading unbelievable characters in a story.  The writing wasn't bad but the content and how the characters were presented disturbed me (and not because of the porn-like scenes).  Conflict is good to keep a story going but out of character behavior just for shock value is a turn off.\""
      ]
     },
     "execution_count": 232,
     "metadata": {},
     "output_type": "execute_result"
    }
   ],
   "source": [
    "test_x[0]"
   ]
  },
  {
   "cell_type": "code",
   "execution_count": 233,
   "id": "cac0ddd6",
   "metadata": {},
   "outputs": [
    {
     "data": {
      "text/plain": [
       "'NEGATIVE'"
      ]
     },
     "execution_count": 233,
     "metadata": {},
     "output_type": "execute_result"
    }
   ],
   "source": [
    "test_y[0]"
   ]
  },
  {
   "cell_type": "code",
   "execution_count": 234,
   "id": "e57b2c41",
   "metadata": {},
   "outputs": [
    {
     "name": "stdout",
     "output_type": "stream",
     "text": [
      "[[0. 0. 0. ... 0. 0. 0.]]\n"
     ]
    }
   ],
   "source": [
    "from sklearn.feature_extraction.text import CountVectorizer, TfidfVectorizer\n",
    "\n",
    "vectorizer = TfidfVectorizer()\n",
    "train_x_vectors = vectorizer.fit_transform(train_x)\n",
    "\n",
    "test_x_vectors = vectorizer.transform(test_x)\n",
    "\n",
    "print(train_x_vectors[0].toarray())"
   ]
  },
  {
   "cell_type": "code",
   "execution_count": 235,
   "id": "a8b57492",
   "metadata": {},
   "outputs": [
    {
     "data": {
      "text/plain": [
       "<872x8900 sparse matrix of type '<class 'numpy.float64'>'\n",
       "\twith 53552 stored elements in Compressed Sparse Row format>"
      ]
     },
     "execution_count": 235,
     "metadata": {},
     "output_type": "execute_result"
    }
   ],
   "source": [
    "train_x_vectors"
   ]
  },
  {
   "cell_type": "code",
   "execution_count": 236,
   "id": "c9823958",
   "metadata": {},
   "outputs": [
    {
     "data": {
      "text/plain": [
       "<416x8900 sparse matrix of type '<class 'numpy.float64'>'\n",
       "\twith 24256 stored elements in Compressed Sparse Row format>"
      ]
     },
     "execution_count": 236,
     "metadata": {},
     "output_type": "execute_result"
    }
   ],
   "source": [
    "test_x_vectors"
   ]
  },
  {
   "cell_type": "code",
   "execution_count": 237,
   "id": "e01229fc",
   "metadata": {},
   "outputs": [
    {
     "data": {
      "text/plain": [
       "<416x8900 sparse matrix of type '<class 'numpy.float64'>'\n",
       "\twith 24256 stored elements in Compressed Sparse Row format>"
      ]
     },
     "execution_count": 237,
     "metadata": {},
     "output_type": "execute_result"
    }
   ],
   "source": [
    "test_x_vectors"
   ]
  },
  {
   "cell_type": "code",
   "execution_count": 238,
   "id": "ff3294d5",
   "metadata": {},
   "outputs": [
    {
     "data": {
      "text/plain": [
       "<1x8900 sparse matrix of type '<class 'numpy.float64'>'\n",
       "\twith 43 stored elements in Compressed Sparse Row format>"
      ]
     },
     "execution_count": 238,
     "metadata": {},
     "output_type": "execute_result"
    }
   ],
   "source": [
    "test_x_vectors[0]"
   ]
  },
  {
   "cell_type": "code",
   "execution_count": 239,
   "id": "340fa11c",
   "metadata": {},
   "outputs": [],
   "source": [
    "from sklearn import svm"
   ]
  },
  {
   "cell_type": "code",
   "execution_count": 240,
   "id": "b5014d4d",
   "metadata": {},
   "outputs": [
    {
     "data": {
      "text/plain": [
       "SVC(kernel='linear')"
      ]
     },
     "execution_count": 240,
     "metadata": {},
     "output_type": "execute_result"
    }
   ],
   "source": [
    "clf_svm = svm.SVC(kernel='linear')\n",
    "clf_svm.fit(train_x_vectors, train_y)"
   ]
  },
  {
   "cell_type": "code",
   "execution_count": 241,
   "id": "5746567e",
   "metadata": {},
   "outputs": [
    {
     "data": {
      "text/plain": [
       "\"I really hate writing bad reviews almost as much as I hate reading unbelievable characters in a story.  The writing wasn't bad but the content and how the characters were presented disturbed me (and not because of the porn-like scenes).  Conflict is good to keep a story going but out of character behavior just for shock value is a turn off.\""
      ]
     },
     "execution_count": 241,
     "metadata": {},
     "output_type": "execute_result"
    }
   ],
   "source": [
    "test_x[0]"
   ]
  },
  {
   "cell_type": "code",
   "execution_count": 242,
   "id": "ac8a13e8",
   "metadata": {},
   "outputs": [
    {
     "data": {
      "text/plain": [
       "'NEGATIVE'"
      ]
     },
     "execution_count": 242,
     "metadata": {},
     "output_type": "execute_result"
    }
   ],
   "source": [
    "test_y[0]"
   ]
  },
  {
   "cell_type": "code",
   "execution_count": 243,
   "id": "37f8e879",
   "metadata": {},
   "outputs": [
    {
     "name": "stdout",
     "output_type": "stream",
     "text": [
      "['NEGATIVE']\n"
     ]
    }
   ],
   "source": [
    "print(clf_svm.predict(test_x_vectors[0]))"
   ]
  },
  {
   "cell_type": "code",
   "execution_count": 244,
   "id": "cce06f69",
   "metadata": {},
   "outputs": [],
   "source": [
    "user_input = \"Overall an average book i would say. Did not enjoy much\""
   ]
  },
  {
   "cell_type": "code",
   "execution_count": 245,
   "id": "3631da40",
   "metadata": {},
   "outputs": [],
   "source": [
    "user_input_vector = vectorizer.transform([user_input])"
   ]
  },
  {
   "cell_type": "code",
   "execution_count": 246,
   "id": "4082a166",
   "metadata": {},
   "outputs": [
    {
     "name": "stdout",
     "output_type": "stream",
     "text": [
      "  (0, 8813)\t0.23722381445255136\n",
      "  (0, 6867)\t0.32723758779618994\n",
      "  (0, 5601)\t0.4448494139840391\n",
      "  (0, 5404)\t0.16369842091987755\n",
      "  (0, 5220)\t0.25248161051378204\n",
      "  (0, 2679)\t0.3333766774556179\n",
      "  (0, 2221)\t0.26934732589275684\n",
      "  (0, 982)\t0.13074200317914544\n",
      "  (0, 659)\t0.5483483256097684\n",
      "  (0, 406)\t0.21618958480328404\n"
     ]
    }
   ],
   "source": [
    "print(user_input_vector)"
   ]
  },
  {
   "cell_type": "code",
   "execution_count": 247,
   "id": "ac6fb0b0",
   "metadata": {},
   "outputs": [
    {
     "name": "stdout",
     "output_type": "stream",
     "text": [
      "['POSITIVE']\n"
     ]
    }
   ],
   "source": [
    "print(clf_svm.predict(user_input_vector))"
   ]
  },
  {
   "cell_type": "code",
   "execution_count": 248,
   "id": "51436ff4",
   "metadata": {
    "scrolled": true
   },
   "outputs": [
    {
     "name": "stdout",
     "output_type": "stream",
     "text": [
      "['NEGATIVE' 'POSITIVE' 'POSITIVE' 'POSITIVE' 'NEGATIVE' 'NEGATIVE'\n",
      " 'NEGATIVE' 'POSITIVE' 'POSITIVE' 'POSITIVE' 'POSITIVE' 'NEGATIVE'\n",
      " 'NEGATIVE' 'NEGATIVE' 'POSITIVE' 'NEGATIVE' 'NEGATIVE' 'NEGATIVE'\n",
      " 'NEGATIVE' 'POSITIVE' 'POSITIVE' 'NEGATIVE' 'POSITIVE' 'POSITIVE'\n",
      " 'NEGATIVE' 'NEGATIVE' 'NEGATIVE' 'NEGATIVE' 'NEGATIVE' 'NEGATIVE'\n",
      " 'POSITIVE' 'NEGATIVE' 'POSITIVE' 'POSITIVE' 'POSITIVE' 'POSITIVE'\n",
      " 'POSITIVE' 'NEGATIVE' 'NEGATIVE' 'POSITIVE' 'POSITIVE' 'NEGATIVE'\n",
      " 'NEGATIVE' 'POSITIVE' 'NEGATIVE' 'POSITIVE' 'NEGATIVE' 'POSITIVE'\n",
      " 'NEGATIVE' 'POSITIVE' 'POSITIVE' 'POSITIVE' 'POSITIVE' 'POSITIVE'\n",
      " 'POSITIVE' 'NEGATIVE' 'NEGATIVE' 'NEGATIVE' 'POSITIVE' 'NEGATIVE'\n",
      " 'NEGATIVE' 'POSITIVE' 'POSITIVE' 'NEGATIVE' 'NEGATIVE' 'NEGATIVE'\n",
      " 'POSITIVE' 'NEGATIVE' 'NEGATIVE' 'POSITIVE' 'NEGATIVE' 'POSITIVE'\n",
      " 'NEGATIVE' 'NEGATIVE' 'POSITIVE' 'POSITIVE' 'NEGATIVE' 'POSITIVE'\n",
      " 'NEGATIVE' 'POSITIVE' 'POSITIVE' 'POSITIVE' 'POSITIVE' 'NEGATIVE'\n",
      " 'POSITIVE' 'POSITIVE' 'POSITIVE' 'NEGATIVE' 'NEGATIVE' 'NEGATIVE'\n",
      " 'NEGATIVE' 'POSITIVE' 'POSITIVE' 'NEGATIVE' 'POSITIVE' 'POSITIVE'\n",
      " 'NEGATIVE' 'NEGATIVE' 'NEGATIVE' 'POSITIVE' 'POSITIVE' 'POSITIVE'\n",
      " 'NEGATIVE' 'POSITIVE' 'NEGATIVE' 'POSITIVE' 'POSITIVE' 'NEGATIVE'\n",
      " 'NEGATIVE' 'NEGATIVE' 'NEGATIVE' 'POSITIVE' 'POSITIVE' 'NEGATIVE'\n",
      " 'NEGATIVE' 'NEGATIVE' 'NEGATIVE' 'NEGATIVE' 'POSITIVE' 'POSITIVE'\n",
      " 'NEGATIVE' 'NEGATIVE' 'NEGATIVE' 'NEGATIVE' 'POSITIVE' 'POSITIVE'\n",
      " 'NEGATIVE' 'POSITIVE' 'POSITIVE' 'NEGATIVE' 'NEGATIVE' 'NEGATIVE'\n",
      " 'NEGATIVE' 'POSITIVE' 'POSITIVE' 'NEGATIVE' 'NEGATIVE' 'POSITIVE'\n",
      " 'NEGATIVE' 'NEGATIVE' 'NEGATIVE' 'POSITIVE' 'NEGATIVE' 'NEGATIVE'\n",
      " 'POSITIVE' 'NEGATIVE' 'NEGATIVE' 'POSITIVE' 'NEGATIVE' 'NEGATIVE'\n",
      " 'NEGATIVE' 'NEGATIVE' 'POSITIVE' 'POSITIVE' 'POSITIVE' 'NEGATIVE'\n",
      " 'NEGATIVE' 'POSITIVE' 'POSITIVE' 'NEGATIVE' 'NEGATIVE' 'NEGATIVE'\n",
      " 'POSITIVE' 'NEGATIVE' 'NEGATIVE' 'POSITIVE' 'NEGATIVE' 'NEGATIVE'\n",
      " 'POSITIVE' 'NEGATIVE' 'NEGATIVE' 'POSITIVE' 'POSITIVE' 'POSITIVE'\n",
      " 'NEGATIVE' 'NEGATIVE' 'NEGATIVE' 'NEGATIVE' 'NEGATIVE' 'POSITIVE'\n",
      " 'POSITIVE' 'POSITIVE' 'NEGATIVE' 'NEGATIVE' 'POSITIVE' 'NEGATIVE'\n",
      " 'NEGATIVE' 'POSITIVE' 'POSITIVE' 'POSITIVE' 'POSITIVE' 'POSITIVE'\n",
      " 'NEGATIVE' 'POSITIVE' 'NEGATIVE' 'NEGATIVE' 'POSITIVE' 'POSITIVE'\n",
      " 'POSITIVE' 'POSITIVE' 'NEGATIVE' 'NEGATIVE' 'POSITIVE' 'NEGATIVE'\n",
      " 'POSITIVE' 'POSITIVE' 'POSITIVE' 'NEGATIVE' 'POSITIVE' 'NEGATIVE'\n",
      " 'NEGATIVE' 'NEGATIVE' 'POSITIVE' 'NEGATIVE' 'POSITIVE' 'POSITIVE'\n",
      " 'NEGATIVE' 'POSITIVE' 'POSITIVE' 'POSITIVE' 'POSITIVE' 'POSITIVE'\n",
      " 'NEGATIVE' 'POSITIVE' 'POSITIVE' 'NEGATIVE' 'POSITIVE' 'NEGATIVE'\n",
      " 'POSITIVE' 'POSITIVE' 'NEGATIVE' 'NEGATIVE' 'NEGATIVE' 'NEGATIVE'\n",
      " 'NEGATIVE' 'POSITIVE' 'NEGATIVE' 'POSITIVE' 'NEGATIVE' 'NEGATIVE'\n",
      " 'POSITIVE' 'NEGATIVE' 'POSITIVE' 'NEGATIVE' 'NEGATIVE' 'POSITIVE'\n",
      " 'POSITIVE' 'NEGATIVE' 'NEGATIVE' 'NEGATIVE' 'POSITIVE' 'NEGATIVE'\n",
      " 'NEGATIVE' 'POSITIVE' 'NEGATIVE' 'NEGATIVE' 'NEGATIVE' 'NEGATIVE'\n",
      " 'POSITIVE' 'NEGATIVE' 'POSITIVE' 'NEGATIVE' 'NEGATIVE' 'POSITIVE'\n",
      " 'POSITIVE' 'POSITIVE' 'POSITIVE' 'POSITIVE' 'POSITIVE' 'NEGATIVE'\n",
      " 'NEGATIVE' 'NEGATIVE' 'POSITIVE' 'NEGATIVE' 'POSITIVE' 'NEGATIVE'\n",
      " 'POSITIVE' 'POSITIVE' 'NEGATIVE' 'POSITIVE' 'NEGATIVE' 'POSITIVE'\n",
      " 'NEGATIVE' 'NEGATIVE' 'NEGATIVE' 'NEGATIVE' 'POSITIVE' 'NEGATIVE'\n",
      " 'POSITIVE' 'NEGATIVE' 'POSITIVE' 'POSITIVE' 'POSITIVE' 'POSITIVE'\n",
      " 'NEGATIVE' 'POSITIVE' 'POSITIVE' 'NEGATIVE' 'POSITIVE' 'POSITIVE'\n",
      " 'NEGATIVE' 'NEGATIVE' 'NEGATIVE' 'NEGATIVE' 'POSITIVE' 'NEGATIVE'\n",
      " 'NEGATIVE' 'NEGATIVE' 'NEGATIVE' 'POSITIVE' 'NEGATIVE' 'NEGATIVE'\n",
      " 'NEGATIVE' 'POSITIVE' 'NEGATIVE' 'POSITIVE' 'POSITIVE' 'NEGATIVE'\n",
      " 'POSITIVE' 'NEGATIVE' 'NEGATIVE' 'POSITIVE' 'POSITIVE' 'POSITIVE'\n",
      " 'NEGATIVE' 'NEGATIVE' 'POSITIVE' 'NEGATIVE' 'POSITIVE' 'NEGATIVE'\n",
      " 'NEGATIVE' 'POSITIVE' 'POSITIVE' 'POSITIVE' 'NEGATIVE' 'NEGATIVE'\n",
      " 'NEGATIVE' 'NEGATIVE' 'POSITIVE' 'NEGATIVE' 'POSITIVE' 'POSITIVE'\n",
      " 'POSITIVE' 'NEGATIVE' 'NEGATIVE' 'POSITIVE' 'NEGATIVE' 'POSITIVE'\n",
      " 'POSITIVE' 'NEGATIVE' 'NEGATIVE' 'NEGATIVE' 'NEGATIVE' 'POSITIVE'\n",
      " 'POSITIVE' 'NEGATIVE' 'NEGATIVE' 'POSITIVE' 'NEGATIVE' 'POSITIVE'\n",
      " 'POSITIVE' 'POSITIVE' 'POSITIVE' 'POSITIVE' 'POSITIVE' 'POSITIVE'\n",
      " 'POSITIVE' 'NEGATIVE' 'NEGATIVE' 'NEGATIVE' 'NEGATIVE' 'NEGATIVE'\n",
      " 'POSITIVE' 'NEGATIVE' 'NEGATIVE' 'NEGATIVE' 'POSITIVE' 'POSITIVE'\n",
      " 'NEGATIVE' 'POSITIVE' 'POSITIVE' 'NEGATIVE' 'POSITIVE' 'POSITIVE'\n",
      " 'NEGATIVE' 'POSITIVE' 'NEGATIVE' 'POSITIVE' 'NEGATIVE' 'NEGATIVE'\n",
      " 'POSITIVE' 'NEGATIVE' 'POSITIVE' 'NEGATIVE' 'POSITIVE' 'POSITIVE'\n",
      " 'POSITIVE' 'NEGATIVE' 'POSITIVE' 'NEGATIVE' 'POSITIVE' 'NEGATIVE'\n",
      " 'NEGATIVE' 'NEGATIVE' 'NEGATIVE' 'POSITIVE' 'POSITIVE' 'POSITIVE'\n",
      " 'POSITIVE' 'NEGATIVE' 'NEGATIVE' 'NEGATIVE' 'POSITIVE' 'POSITIVE'\n",
      " 'NEGATIVE' 'POSITIVE']\n"
     ]
    }
   ],
   "source": [
    "print(clf_svm.predict(test_x_vectors))"
   ]
  },
  {
   "cell_type": "code",
   "execution_count": 249,
   "id": "b2323f23",
   "metadata": {},
   "outputs": [
    {
     "data": {
      "text/plain": [
       "DecisionTreeClassifier()"
      ]
     },
     "execution_count": 249,
     "metadata": {},
     "output_type": "execute_result"
    }
   ],
   "source": [
    "from sklearn.tree import DecisionTreeClassifier\n",
    "\n",
    "clf_dec = DecisionTreeClassifier()\n",
    "clf_dec.fit(train_x_vectors, train_y)"
   ]
  },
  {
   "cell_type": "code",
   "execution_count": 250,
   "id": "2a4d7cb6",
   "metadata": {},
   "outputs": [
    {
     "name": "stdout",
     "output_type": "stream",
     "text": [
      "['NEGATIVE']\n"
     ]
    }
   ],
   "source": [
    "print(clf_dec.predict(user_input_vector[0]))"
   ]
  },
  {
   "cell_type": "code",
   "execution_count": 251,
   "id": "21f78170",
   "metadata": {},
   "outputs": [
    {
     "data": {
      "text/plain": [
       "GaussianNB()"
      ]
     },
     "execution_count": 251,
     "metadata": {},
     "output_type": "execute_result"
    }
   ],
   "source": [
    "from sklearn.naive_bayes import GaussianNB\n",
    "\n",
    "clf_gnb = GaussianNB()\n",
    "clf_gnb.fit(train_x_vectors.todense(), train_y)"
   ]
  },
  {
   "cell_type": "code",
   "execution_count": 252,
   "id": "1c208205",
   "metadata": {},
   "outputs": [
    {
     "name": "stdout",
     "output_type": "stream",
     "text": [
      "['NEGATIVE']\n"
     ]
    }
   ],
   "source": [
    "print(clf_gnb.predict(user_input_vector.todense()))"
   ]
  },
  {
   "cell_type": "code",
   "execution_count": 253,
   "id": "ed838e2d",
   "metadata": {},
   "outputs": [
    {
     "data": {
      "text/plain": [
       "LogisticRegression()"
      ]
     },
     "execution_count": 253,
     "metadata": {},
     "output_type": "execute_result"
    }
   ],
   "source": [
    "from sklearn.linear_model import LogisticRegression\n",
    "\n",
    "clf_log = LogisticRegression()\n",
    "clf_log.fit(train_x_vectors, train_y)"
   ]
  },
  {
   "cell_type": "code",
   "execution_count": 254,
   "id": "0b98cd52",
   "metadata": {
    "scrolled": true
   },
   "outputs": [
    {
     "name": "stdout",
     "output_type": "stream",
     "text": [
      "['POSITIVE']\n"
     ]
    }
   ],
   "source": [
    "print(clf_log.predict(test_x_vectors[2]))"
   ]
  },
  {
   "cell_type": "code",
   "execution_count": 255,
   "id": "5dac9d9a",
   "metadata": {},
   "outputs": [
    {
     "name": "stdout",
     "output_type": "stream",
     "text": [
      "0.7716346153846154\n",
      "0.6418269230769231\n",
      "0.6394230769230769\n",
      "0.7740384615384616\n"
     ]
    }
   ],
   "source": [
    "# Mean Accuracy\n",
    "\n",
    "\n",
    "print(clf_svm.score(test_x_vectors, test_y))\n",
    "print(clf_dec.score(test_x_vectors, test_y))\n",
    "print(clf_gnb.score(test_x_vectors.todense(), test_y))\n",
    "print(clf_log.score(test_x_vectors, test_y))"
   ]
  },
  {
   "cell_type": "code",
   "execution_count": 257,
   "id": "7a983f3f",
   "metadata": {},
   "outputs": [
    {
     "name": "stdout",
     "output_type": "stream",
     "text": [
      "[0.76658477 0.77647059]\n",
      "[0.64608076 0.63746959]\n",
      "[0.64454976 0.63414634]\n",
      "[0.77294686 0.77511962]\n"
     ]
    }
   ],
   "source": [
    "# F1 Scores\n",
    "\n",
    "from sklearn.metrics import f1_score\n",
    "\n",
    "print(f1_score(test_y, clf_svm.predict(test_x_vectors), average=None, labels=[Sentiment.POSITIVE, Sentiment.NEGATIVE]))\n",
    "print(f1_score(test_y, clf_dec.predict(test_x_vectors), average=None, labels=[Sentiment.POSITIVE, Sentiment.NEGATIVE]))\n",
    "print(f1_score(test_y, clf_gnb.predict(test_x_vectors.todense()), average=None, labels=[Sentiment.POSITIVE,Sentiment.NEGATIVE]))\n",
    "print(f1_score(test_y, clf_log.predict(test_x_vectors), average=None, labels=[Sentiment.POSITIVE, Sentiment.NEGATIVE]))"
   ]
  },
  {
   "cell_type": "code",
   "execution_count": 262,
   "id": "93f8dc55",
   "metadata": {},
   "outputs": [
    {
     "data": {
      "text/plain": [
       "208"
      ]
     },
     "execution_count": 262,
     "metadata": {},
     "output_type": "execute_result"
    }
   ],
   "source": [
    "test_y.count(Sentiment.POSITIVE)"
   ]
  },
  {
   "cell_type": "code",
   "execution_count": 263,
   "id": "8d87d2ed",
   "metadata": {},
   "outputs": [],
   "source": [
    "test_set = ['good read', 'bad book do not buy', 'horrible waste of time', 'Overall a mild book i would say. Did not enjoy much']\n",
    "new_test = vectorizer.transform(test_set)"
   ]
  },
  {
   "cell_type": "code",
   "execution_count": 264,
   "id": "29ea9739",
   "metadata": {},
   "outputs": [
    {
     "name": "stdout",
     "output_type": "stream",
     "text": [
      "['POSITIVE' 'NEGATIVE' 'NEGATIVE' 'NEGATIVE']\n"
     ]
    }
   ],
   "source": [
    "print(clf_log.predict(new_test))"
   ]
  },
  {
   "cell_type": "code",
   "execution_count": 265,
   "id": "7dd3f3e6",
   "metadata": {},
   "outputs": [
    {
     "data": {
      "text/plain": [
       "GridSearchCV(cv=5, estimator=LogisticRegression(),\n",
       "             param_grid={'C': (1, 2, 3, 4, 8),\n",
       "                         'max_iter': (400, 800, 1000, 1600),\n",
       "                         'solver': ('newton-cg', 'lbfgs', 'liblinear', 'sag',\n",
       "                                    'saga')})"
      ]
     },
     "execution_count": 265,
     "metadata": {},
     "output_type": "execute_result"
    }
   ],
   "source": [
    "from sklearn.model_selection import GridSearchCV\n",
    "\n",
    "parameters = {'solver': ('newton-cg', 'lbfgs','liblinear','sag','saga'), 'C': (1, 2, 3, 4, 8), 'max_iter': (400, 800,1000,1600)}\n",
    "log_reg = LogisticRegression()\n",
    "\n",
    "clf = GridSearchCV(log_reg, parameters, cv=5)\n",
    "\n",
    "clf.fit(train_x_vectors, train_y)"
   ]
  },
  {
   "cell_type": "code",
   "execution_count": 266,
   "id": "66fc95e2",
   "metadata": {},
   "outputs": [
    {
     "name": "stdout",
     "output_type": "stream",
     "text": [
      "0.7836538461538461\n"
     ]
    }
   ],
   "source": [
    "print(clf.score(test_x_vectors, test_y))"
   ]
  },
  {
   "cell_type": "code",
   "execution_count": 267,
   "id": "0e77541c",
   "metadata": {},
   "outputs": [],
   "source": [
    "import pickle\n",
    "\n",
    "with open('sentiment_classifier.pkl', 'wb') as f:\n",
    "    pickle.dump(clf, f)"
   ]
  },
  {
   "cell_type": "code",
   "execution_count": 268,
   "id": "3e554bf3",
   "metadata": {},
   "outputs": [],
   "source": [
    "with open('sentiment_classifier.pkl', 'rb') as f:\n",
    "    loaded_clf = pickle.load(f)"
   ]
  },
  {
   "cell_type": "code",
   "execution_count": 269,
   "id": "e89cca89",
   "metadata": {
    "scrolled": true
   },
   "outputs": [
    {
     "name": "stdout",
     "output_type": "stream",
     "text": [
      "POSITIVE\n",
      "['POSITIVE']\n"
     ]
    }
   ],
   "source": [
    "print(test_y[3])\n",
    "\n",
    "print(loaded_clf.predict(test_x_vectors[3]))"
   ]
  }
 ],
 "metadata": {
  "kernelspec": {
   "display_name": "Python 3",
   "language": "python",
   "name": "python3"
  },
  "language_info": {
   "codemirror_mode": {
    "name": "ipython",
    "version": 3
   },
   "file_extension": ".py",
   "mimetype": "text/x-python",
   "name": "python",
   "nbconvert_exporter": "python",
   "pygments_lexer": "ipython3",
   "version": "3.7.6"
  }
 },
 "nbformat": 4,
 "nbformat_minor": 5
}
